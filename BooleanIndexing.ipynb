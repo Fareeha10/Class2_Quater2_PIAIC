{
  "nbformat": 4,
  "nbformat_minor": 0,
  "metadata": {
    "colab": {
      "name": "BooleanIndexing.ipynb",
      "provenance": [],
      "collapsed_sections": [],
      "include_colab_link": true
    },
    "kernelspec": {
      "name": "python3",
      "display_name": "Python 3"
    }
  },
  "cells": [
    {
      "cell_type": "markdown",
      "metadata": {
        "id": "view-in-github",
        "colab_type": "text"
      },
      "source": [
        "<a href=\"https://colab.research.google.com/github/Fareeha10/Class2_Quater2_PIAIC/blob/master/BooleanIndexing.ipynb\" target=\"_parent\"><img src=\"https://colab.research.google.com/assets/colab-badge.svg\" alt=\"Open In Colab\"/></a>"
      ]
    },
    {
      "cell_type": "code",
      "metadata": {
        "id": "z0WAUVaiPSbe",
        "colab_type": "code",
        "colab": {}
      },
      "source": [
        "import numpy as np\n"
      ],
      "execution_count": 0,
      "outputs": []
    },
    {
      "cell_type": "code",
      "metadata": {
        "id": "zM1dL5dBRUMd",
        "colab_type": "code",
        "colab": {
          "base_uri": "https://localhost:8080/",
          "height": 34
        },
        "outputId": "394197d6-e100-4d57-89a2-4e2e085dfc42"
      },
      "source": [
        "arrid = np.array([213,54,67,22])\n",
        "arrid\n"
      ],
      "execution_count": 5,
      "outputs": [
        {
          "output_type": "execute_result",
          "data": {
            "text/plain": [
              "array([213,  54,  67,  22])"
            ]
          },
          "metadata": {
            "tags": []
          },
          "execution_count": 5
        }
      ]
    },
    {
      "cell_type": "code",
      "metadata": {
        "id": "ZAEYOWpSRrpx",
        "colab_type": "code",
        "colab": {
          "base_uri": "https://localhost:8080/",
          "height": 34
        },
        "outputId": "fd6f1215-81e1-4a42-a4fe-aa323f853a1c"
      },
      "source": [
        "arrid[1:3]"
      ],
      "execution_count": 7,
      "outputs": [
        {
          "output_type": "execute_result",
          "data": {
            "text/plain": [
              "array([54, 67])"
            ]
          },
          "metadata": {
            "tags": []
          },
          "execution_count": 7
        }
      ]
    },
    {
      "cell_type": "code",
      "metadata": {
        "id": "wwBExrpmSKK1",
        "colab_type": "code",
        "colab": {
          "base_uri": "https://localhost:8080/",
          "height": 34
        },
        "outputId": "afa6a900-3914-4e74-9d0a-7d3737fff653"
      },
      "source": [
        "arrid[-1]"
      ],
      "execution_count": 8,
      "outputs": [
        {
          "output_type": "execute_result",
          "data": {
            "text/plain": [
              "22"
            ]
          },
          "metadata": {
            "tags": []
          },
          "execution_count": 8
        }
      ]
    },
    {
      "cell_type": "code",
      "metadata": {
        "id": "gRsSNwnISYWy",
        "colab_type": "code",
        "colab": {
          "base_uri": "https://localhost:8080/",
          "height": 34
        },
        "outputId": "e0c4036c-85b8-42f3-8d30-bc3337eef12c"
      },
      "source": [
        "arr2d=([[112,54,67,89,34,55],[44,22,111,77,88,90]])\n",
        "arr2d\n"
      ],
      "execution_count": 10,
      "outputs": [
        {
          "output_type": "execute_result",
          "data": {
            "text/plain": [
              "[[112, 54, 67, 89, 34, 55], [44, 22, 111, 77, 88, 90]]"
            ]
          },
          "metadata": {
            "tags": []
          },
          "execution_count": 10
        }
      ]
    },
    {
      "cell_type": "code",
      "metadata": {
        "id": "Gho50HZfSrsL",
        "colab_type": "code",
        "colab": {}
      },
      "source": [
        "#right side is for  col\n",
        "#left for row\n",
        "#2d[r,c]\n",
        "'''2d[st:en,st:en] for slicing'''\n",
        "arr3d.ndim   #demension"
      ],
      "execution_count": 0,
      "outputs": []
    },
    {
      "cell_type": "code",
      "metadata": {
        "id": "N1_11YEHT2YC",
        "colab_type": "code",
        "colab": {}
      },
      "source": [
        "arr3d.shape"
      ],
      "execution_count": 0,
      "outputs": []
    },
    {
      "cell_type": "code",
      "metadata": {
        "id": "g9mXeLAeUGeG",
        "colab_type": "code",
        "colab": {}
      },
      "source": [
        "arr3d = np.array([[[12,13,14,15],[21,32,43,54],[1,5,3,2]]])"
      ],
      "execution_count": 0,
      "outputs": []
    },
    {
      "cell_type": "code",
      "metadata": {
        "id": "2TWZDJ1RUcLx",
        "colab_type": "code",
        "colab": {
          "base_uri": "https://localhost:8080/",
          "height": 68
        },
        "outputId": "8122b589-c8da-481a-eec1-61b7c71e19ba"
      },
      "source": [
        "arr3d"
      ],
      "execution_count": 16,
      "outputs": [
        {
          "output_type": "execute_result",
          "data": {
            "text/plain": [
              "array([[[12, 13, 14, 15],\n",
              "        [21, 32, 43, 54],\n",
              "        [ 1,  5,  3,  2]]])"
            ]
          },
          "metadata": {
            "tags": []
          },
          "execution_count": 16
        }
      ]
    },
    {
      "cell_type": "code",
      "metadata": {
        "id": "vtBtDM5qUeK8",
        "colab_type": "code",
        "colab": {
          "base_uri": "https://localhost:8080/",
          "height": 34
        },
        "outputId": "4c47c1fe-e1a3-4091-df5d-7b91b10793a5"
      },
      "source": [
        "arr3d.shape #shape[no.of 2d, r,col]"
      ],
      "execution_count": 17,
      "outputs": [
        {
          "output_type": "execute_result",
          "data": {
            "text/plain": [
              "(1, 3, 4)"
            ]
          },
          "metadata": {
            "tags": []
          },
          "execution_count": 17
        }
      ]
    },
    {
      "cell_type": "code",
      "metadata": {
        "id": "FJ2O4Tm3Uqd5",
        "colab_type": "code",
        "colab": {
          "base_uri": "https://localhost:8080/",
          "height": 34
        },
        "outputId": "92b8dc1f-e1ba-451f-f129-6ce7a0984d0a"
      },
      "source": [
        "arr3d.ndim"
      ],
      "execution_count": 19,
      "outputs": [
        {
          "output_type": "execute_result",
          "data": {
            "text/plain": [
              "3"
            ]
          },
          "metadata": {
            "tags": []
          },
          "execution_count": 19
        }
      ]
    },
    {
      "cell_type": "code",
      "metadata": {
        "id": "OdFBg8DVUusN",
        "colab_type": "code",
        "colab": {
          "base_uri": "https://localhost:8080/",
          "height": 34
        },
        "outputId": "c4147b4d-d8b5-4812-e7ad-15ad9c79c9b2"
      },
      "source": [
        "arr3d[0][2]  "
      ],
      "execution_count": 20,
      "outputs": [
        {
          "output_type": "execute_result",
          "data": {
            "text/plain": [
              "array([1, 5, 3, 2])"
            ]
          },
          "metadata": {
            "tags": []
          },
          "execution_count": 20
        }
      ]
    },
    {
      "cell_type": "code",
      "metadata": {
        "id": "B72bvSc7U-Zz",
        "colab_type": "code",
        "colab": {
          "base_uri": "https://localhost:8080/",
          "height": 170
        },
        "outputId": "e86b6909-f218-43e7-dc5e-3d42b68fb9d0"
      },
      "source": [
        "arr3d2= np.arange(32).reshape(2,4,4)\n",
        "arr3d2"
      ],
      "execution_count": 33,
      "outputs": [
        {
          "output_type": "execute_result",
          "data": {
            "text/plain": [
              "array([[[ 0,  1,  2,  3],\n",
              "        [ 4,  5,  6,  7],\n",
              "        [ 8,  9, 10, 11],\n",
              "        [12, 13, 14, 15]],\n",
              "\n",
              "       [[16, 17, 18, 19],\n",
              "        [20, 21, 22, 23],\n",
              "        [24, 25, 26, 27],\n",
              "        [28, 29, 30, 31]]])"
            ]
          },
          "metadata": {
            "tags": []
          },
          "execution_count": 33
        }
      ]
    },
    {
      "cell_type": "code",
      "metadata": {
        "id": "C-2FXKwYWh-n",
        "colab_type": "code",
        "colab": {
          "base_uri": "https://localhost:8080/",
          "height": 34
        },
        "outputId": "05fe50eb-41ea-4c5e-8219-ba85f915f780"
      },
      "source": [
        "arr3d2[0,:2,1]"
      ],
      "execution_count": 34,
      "outputs": [
        {
          "output_type": "execute_result",
          "data": {
            "text/plain": [
              "array([1, 5])"
            ]
          },
          "metadata": {
            "tags": []
          },
          "execution_count": 34
        }
      ]
    },
    {
      "cell_type": "code",
      "metadata": {
        "id": "m8XqKxkIX79L",
        "colab_type": "code",
        "colab": {}
      },
      "source": [
        "arr = np.arange(1,37).reshape(6,6)"
      ],
      "execution_count": 0,
      "outputs": []
    },
    {
      "cell_type": "code",
      "metadata": {
        "id": "bR-7ZXq7Zivh",
        "colab_type": "code",
        "colab": {
          "base_uri": "https://localhost:8080/",
          "height": 119
        },
        "outputId": "0bc82d2c-7719-4536-d69b-a6df1343686a"
      },
      "source": [
        "arr"
      ],
      "execution_count": 41,
      "outputs": [
        {
          "output_type": "execute_result",
          "data": {
            "text/plain": [
              "array([[ 1,  2,  3,  4,  5,  6],\n",
              "       [ 7,  8,  9, 10, 11, 12],\n",
              "       [13, 14, 15, 16, 17, 18],\n",
              "       [19, 20, 21, 22, 23, 24],\n",
              "       [25, 26, 27, 28, 29, 30],\n",
              "       [31, 32, 33, 34, 35, 36]])"
            ]
          },
          "metadata": {
            "tags": []
          },
          "execution_count": 41
        }
      ]
    },
    {
      "cell_type": "code",
      "metadata": {
        "id": "OUOyyAoCZliz",
        "colab_type": "code",
        "colab": {
          "base_uri": "https://localhost:8080/",
          "height": 51
        },
        "outputId": "4b673d27-ecde-4655-8694-5bcdc3c58774"
      },
      "source": [
        "arr[2:4,2:5]"
      ],
      "execution_count": 42,
      "outputs": [
        {
          "output_type": "execute_result",
          "data": {
            "text/plain": [
              "array([[15, 16, 17],\n",
              "       [21, 22, 23]])"
            ]
          },
          "metadata": {
            "tags": []
          },
          "execution_count": 42
        }
      ]
    },
    {
      "cell_type": "code",
      "metadata": {
        "id": "wkMozgmdaoLF",
        "colab_type": "code",
        "colab": {
          "base_uri": "https://localhost:8080/",
          "height": 51
        },
        "outputId": "1edc6b55-ed09-4968-9c79-d5d8d1cc3605"
      },
      "source": [
        "arr3d2[1,1:3,1:3]"
      ],
      "execution_count": 43,
      "outputs": [
        {
          "output_type": "execute_result",
          "data": {
            "text/plain": [
              "array([[21, 22],\n",
              "       [25, 26]])"
            ]
          },
          "metadata": {
            "tags": []
          },
          "execution_count": 43
        }
      ]
    },
    {
      "cell_type": "code",
      "metadata": {
        "id": "hT8lsmpXbNUJ",
        "colab_type": "code",
        "colab": {
          "base_uri": "https://localhost:8080/",
          "height": 34
        },
        "outputId": "c3d6e0f1-4c51-4aab-e70c-4bdef794e136"
      },
      "source": [
        "arr[2:3,:6] #2:3 will print 1 row & prints 2d row"
      ],
      "execution_count": 45,
      "outputs": [
        {
          "output_type": "execute_result",
          "data": {
            "text/plain": [
              "array([[13, 14, 15, 16, 17, 18]])"
            ]
          },
          "metadata": {
            "tags": []
          },
          "execution_count": 45
        }
      ]
    },
    {
      "cell_type": "code",
      "metadata": {
        "id": "AuXY5vnjbVnz",
        "colab_type": "code",
        "colab": {
          "base_uri": "https://localhost:8080/",
          "height": 34
        },
        "outputId": "3b17ab8d-b5f1-48f5-bdfe-bc16f350129a"
      },
      "source": [
        "arr[4:5,:]"
      ],
      "execution_count": 47,
      "outputs": [
        {
          "output_type": "execute_result",
          "data": {
            "text/plain": [
              "array([[25, 26, 27, 28, 29, 30]])"
            ]
          },
          "metadata": {
            "tags": []
          },
          "execution_count": 47
        }
      ]
    },
    {
      "cell_type": "code",
      "metadata": {
        "id": "TkoOiyeSb8tr",
        "colab_type": "code",
        "colab": {
          "base_uri": "https://localhost:8080/",
          "height": 34
        },
        "outputId": "d7c6e8d1-b294-4030-f5c7-c3136c0e53b9"
      },
      "source": [
        "arr[4:5,]"
      ],
      "execution_count": 48,
      "outputs": [
        {
          "output_type": "execute_result",
          "data": {
            "text/plain": [
              "array([[25, 26, 27, 28, 29, 30]])"
            ]
          },
          "metadata": {
            "tags": []
          },
          "execution_count": 48
        }
      ]
    },
    {
      "cell_type": "code",
      "metadata": {
        "id": "puC8PU5jcNkV",
        "colab_type": "code",
        "colab": {
          "base_uri": "https://localhost:8080/",
          "height": 34
        },
        "outputId": "ea001cd0-3d9e-4195-fd98-f1acb7a030b0"
      },
      "source": [
        "arr[4:5]"
      ],
      "execution_count": 49,
      "outputs": [
        {
          "output_type": "execute_result",
          "data": {
            "text/plain": [
              "array([[25, 26, 27, 28, 29, 30]])"
            ]
          },
          "metadata": {
            "tags": []
          },
          "execution_count": 49
        }
      ]
    },
    {
      "cell_type": "code",
      "metadata": {
        "id": "oIJO-YlFcQv_",
        "colab_type": "code",
        "colab": {
          "base_uri": "https://localhost:8080/",
          "height": 34
        },
        "outputId": "3dd7837f-c9a1-4c76-bbcc-e79163a5641e"
      },
      "source": [
        "arr[2]"
      ],
      "execution_count": 50,
      "outputs": [
        {
          "output_type": "execute_result",
          "data": {
            "text/plain": [
              "array([13, 14, 15, 16, 17, 18])"
            ]
          },
          "metadata": {
            "tags": []
          },
          "execution_count": 50
        }
      ]
    },
    {
      "cell_type": "code",
      "metadata": {
        "id": "VI1V_zxpcVoW",
        "colab_type": "code",
        "colab": {
          "base_uri": "https://localhost:8080/",
          "height": 34
        },
        "outputId": "53e138e6-3521-4a53-981b-95d93fa864d9"
      },
      "source": [
        "arr[:,3] #row can be left blank but if you want to print col row is mandatory"
      ],
      "execution_count": 51,
      "outputs": [
        {
          "output_type": "execute_result",
          "data": {
            "text/plain": [
              "array([ 4, 10, 16, 22, 28, 34])"
            ]
          },
          "metadata": {
            "tags": []
          },
          "execution_count": 51
        }
      ]
    },
    {
      "cell_type": "code",
      "metadata": {
        "id": "HpughwY2ctJx",
        "colab_type": "code",
        "colab": {
          "base_uri": "https://localhost:8080/",
          "height": 85
        },
        "outputId": "fbfe852c-92be-4fc3-afcf-76802328b8b6"
      },
      "source": [
        "arr[1:5,:]"
      ],
      "execution_count": 52,
      "outputs": [
        {
          "output_type": "execute_result",
          "data": {
            "text/plain": [
              "array([[ 7,  8,  9, 10, 11, 12],\n",
              "       [13, 14, 15, 16, 17, 18],\n",
              "       [19, 20, 21, 22, 23, 24],\n",
              "       [25, 26, 27, 28, 29, 30]])"
            ]
          },
          "metadata": {
            "tags": []
          },
          "execution_count": 52
        }
      ]
    },
    {
      "cell_type": "code",
      "metadata": {
        "id": "95l04aUCdH6v",
        "colab_type": "code",
        "colab": {
          "base_uri": "https://localhost:8080/",
          "height": 85
        },
        "outputId": "cd259a98-3551-4f4f-ad7a-8859be9d3412"
      },
      "source": [
        "arr[1:5,0:6]"
      ],
      "execution_count": 53,
      "outputs": [
        {
          "output_type": "execute_result",
          "data": {
            "text/plain": [
              "array([[ 7,  8,  9, 10, 11, 12],\n",
              "       [13, 14, 15, 16, 17, 18],\n",
              "       [19, 20, 21, 22, 23, 24],\n",
              "       [25, 26, 27, 28, 29, 30]])"
            ]
          },
          "metadata": {
            "tags": []
          },
          "execution_count": 53
        }
      ]
    },
    {
      "cell_type": "code",
      "metadata": {
        "id": "27V5ZTrYdQSJ",
        "colab_type": "code",
        "colab": {
          "base_uri": "https://localhost:8080/",
          "height": 51
        },
        "outputId": "486e4148-fc06-456f-e9f0-f1a9a4c79fb1"
      },
      "source": [
        "arr[2:4,5:6]  #write : in col to get vector"
      ],
      "execution_count": 54,
      "outputs": [
        {
          "output_type": "execute_result",
          "data": {
            "text/plain": [
              "array([[18],\n",
              "       [24]])"
            ]
          },
          "metadata": {
            "tags": []
          },
          "execution_count": 54
        }
      ]
    },
    {
      "cell_type": "code",
      "metadata": {
        "id": "EKIaR5vNdm0E",
        "colab_type": "code",
        "colab": {
          "base_uri": "https://localhost:8080/",
          "height": 34
        },
        "outputId": "ebc805c4-e4ec-4792-8257-82c49433ff2f"
      },
      "source": [
        "arr[2:4,5]"
      ],
      "execution_count": 55,
      "outputs": [
        {
          "output_type": "execute_result",
          "data": {
            "text/plain": [
              "array([18, 24])"
            ]
          },
          "metadata": {
            "tags": []
          },
          "execution_count": 55
        }
      ]
    },
    {
      "cell_type": "code",
      "metadata": {
        "id": "9CJFy3jEdvOU",
        "colab_type": "code",
        "colab": {
          "base_uri": "https://localhost:8080/",
          "height": 34
        },
        "outputId": "51716f9e-9137-4fa6-b334-33a767fe532d"
      },
      "source": [
        "arr[2:4,-1]"
      ],
      "execution_count": 56,
      "outputs": [
        {
          "output_type": "execute_result",
          "data": {
            "text/plain": [
              "array([18, 24])"
            ]
          },
          "metadata": {
            "tags": []
          },
          "execution_count": 56
        }
      ]
    },
    {
      "cell_type": "code",
      "metadata": {
        "id": "MQEQ3ByZd0Vs",
        "colab_type": "code",
        "colab": {
          "base_uri": "https://localhost:8080/",
          "height": 119
        },
        "outputId": "c6f1034b-fbbe-4e36-d231-ec16835f00a3"
      },
      "source": [
        "#to print alternate col\n",
        "arr[:,::2]  #:2 step gives alternate results"
      ],
      "execution_count": 57,
      "outputs": [
        {
          "output_type": "execute_result",
          "data": {
            "text/plain": [
              "array([[ 1,  3,  5],\n",
              "       [ 7,  9, 11],\n",
              "       [13, 15, 17],\n",
              "       [19, 21, 23],\n",
              "       [25, 27, 29],\n",
              "       [31, 33, 35]])"
            ]
          },
          "metadata": {
            "tags": []
          },
          "execution_count": 57
        }
      ]
    },
    {
      "cell_type": "code",
      "metadata": {
        "id": "9oBMpL5PfTkB",
        "colab_type": "code",
        "colab": {
          "base_uri": "https://localhost:8080/",
          "height": 68
        },
        "outputId": "b6f69536-a1cc-45a9-f665-af9e0407973d"
      },
      "source": [
        "arr[::2,:]  #:2 step gives alternate results for rows"
      ],
      "execution_count": 58,
      "outputs": [
        {
          "output_type": "execute_result",
          "data": {
            "text/plain": [
              "array([[ 1,  2,  3,  4,  5,  6],\n",
              "       [13, 14, 15, 16, 17, 18],\n",
              "       [25, 26, 27, 28, 29, 30]])"
            ]
          },
          "metadata": {
            "tags": []
          },
          "execution_count": 58
        }
      ]
    },
    {
      "cell_type": "code",
      "metadata": {
        "id": "PimmxdFufg-2",
        "colab_type": "code",
        "colab": {
          "base_uri": "https://localhost:8080/",
          "height": 68
        },
        "outputId": "2eeceb34-4721-4a21-974e-cde7eb5e19a0"
      },
      "source": [
        "arr[0:5:2,::2]  #slicing in rows and col\n",
        "'''0: 5 range in row :2 skip a row\n",
        "::2 takes alternate col"
      ],
      "execution_count": 59,
      "outputs": [
        {
          "output_type": "execute_result",
          "data": {
            "text/plain": [
              "array([[ 1,  3,  5],\n",
              "       [13, 15, 17],\n",
              "       [25, 27, 29]])"
            ]
          },
          "metadata": {
            "tags": []
          },
          "execution_count": 59
        }
      ]
    },
    {
      "cell_type": "code",
      "metadata": {
        "id": "dBqJ7a78f6F0",
        "colab_type": "code",
        "colab": {
          "base_uri": "https://localhost:8080/",
          "height": 119
        },
        "outputId": "bd17c860-c30b-4876-e40e-1f7766c0547a"
      },
      "source": [
        "arr"
      ],
      "execution_count": 60,
      "outputs": [
        {
          "output_type": "execute_result",
          "data": {
            "text/plain": [
              "array([[ 1,  2,  3,  4,  5,  6],\n",
              "       [ 7,  8,  9, 10, 11, 12],\n",
              "       [13, 14, 15, 16, 17, 18],\n",
              "       [19, 20, 21, 22, 23, 24],\n",
              "       [25, 26, 27, 28, 29, 30],\n",
              "       [31, 32, 33, 34, 35, 36]])"
            ]
          },
          "metadata": {
            "tags": []
          },
          "execution_count": 60
        }
      ]
    },
    {
      "cell_type": "code",
      "metadata": {
        "id": "u8q0frPsgAA9",
        "colab_type": "code",
        "colab": {
          "base_uri": "https://localhost:8080/",
          "height": 34
        },
        "outputId": "6d7bd839-ac1a-4d01-f514-9170c1637300"
      },
      "source": [
        "#Bolean indexing\n",
        "names= np.array(['bob','jeo','will','bob','will','jeo','jeo'])\n",
        "names #python save data in U4"
      ],
      "execution_count": 97,
      "outputs": [
        {
          "output_type": "execute_result",
          "data": {
            "text/plain": [
              "array(['bob', 'jeo', 'will', 'bob', 'will', 'jeo', 'jeo'], dtype='<U4')"
            ]
          },
          "metadata": {
            "tags": []
          },
          "execution_count": 97
        }
      ]
    },
    {
      "cell_type": "code",
      "metadata": {
        "id": "SGdAoEp6hnK1",
        "colab_type": "code",
        "colab": {}
      },
      "source": [
        "data = np.random.randn(7,4)"
      ],
      "execution_count": 0,
      "outputs": []
    },
    {
      "cell_type": "code",
      "metadata": {
        "id": "jtFsLbf4hyuK",
        "colab_type": "code",
        "colab": {
          "base_uri": "https://localhost:8080/",
          "height": 136
        },
        "outputId": "3749ba99-7426-4313-ee86-36897eab7de2"
      },
      "source": [
        "data>1"
      ],
      "execution_count": 63,
      "outputs": [
        {
          "output_type": "execute_result",
          "data": {
            "text/plain": [
              "array([[False, False, False,  True],\n",
              "       [False, False, False, False],\n",
              "       [False,  True, False, False],\n",
              "       [False,  True, False, False],\n",
              "       [False, False, False, False],\n",
              "       [False, False, False, False],\n",
              "       [ True, False, False, False]])"
            ]
          },
          "metadata": {
            "tags": []
          },
          "execution_count": 63
        }
      ]
    },
    {
      "cell_type": "code",
      "metadata": {
        "id": "kaT7tEsVh1GV",
        "colab_type": "code",
        "colab": {
          "base_uri": "https://localhost:8080/",
          "height": 34
        },
        "outputId": "cef4dc06-ac17-4bb0-817d-1654d980c551"
      },
      "source": [
        "names == 'bob'"
      ],
      "execution_count": 99,
      "outputs": [
        {
          "output_type": "execute_result",
          "data": {
            "text/plain": [
              "array([ True, False, False,  True, False, False, False])"
            ]
          },
          "metadata": {
            "tags": []
          },
          "execution_count": 99
        }
      ]
    },
    {
      "cell_type": "code",
      "metadata": {
        "id": "46Ec43sPh8w3",
        "colab_type": "code",
        "colab": {
          "base_uri": "https://localhost:8080/",
          "height": 34
        },
        "outputId": "3bc2efa9-4dee-4b41-e45b-95e844b2c050"
      },
      "source": [
        "#for printing exact values use variable frame you want to map it on in this case data frame\n",
        "'''fetches values more than 1'''\n",
        "data[data>1]"
      ],
      "execution_count": 66,
      "outputs": [
        {
          "output_type": "execute_result",
          "data": {
            "text/plain": [
              "array([1.53819183, 2.54463456, 1.84455614, 1.19045367])"
            ]
          },
          "metadata": {
            "tags": []
          },
          "execution_count": 66
        }
      ]
    },
    {
      "cell_type": "code",
      "metadata": {
        "id": "h9NHNlcliJEH",
        "colab_type": "code",
        "colab": {
          "base_uri": "https://localhost:8080/",
          "height": 34
        },
        "outputId": "26759e2b-3970-4c4f-bf07-dda77ce4a494"
      },
      "source": [
        "print(names=='bob') "
      ],
      "execution_count": 68,
      "outputs": [
        {
          "output_type": "stream",
          "text": [
            "[ True False False  True False False False]\n"
          ],
          "name": "stdout"
        }
      ]
    },
    {
      "cell_type": "code",
      "metadata": {
        "id": "922huv0tiq54",
        "colab_type": "code",
        "colab": {
          "base_uri": "https://localhost:8080/",
          "height": 51
        },
        "outputId": "e185120e-4442-456e-aac2-3d1916cb5008"
      },
      "source": [
        "data[names == 'bob']  #this will map on data thats why it will only fetch 2 rows"
      ],
      "execution_count": 69,
      "outputs": [
        {
          "output_type": "execute_result",
          "data": {
            "text/plain": [
              "array([[-0.92449351,  0.75012969, -1.38066843,  1.53819183],\n",
              "       [-0.25873311,  1.84455614, -0.19800455,  0.00862961]])"
            ]
          },
          "metadata": {
            "tags": []
          },
          "execution_count": 69
        }
      ]
    },
    {
      "cell_type": "code",
      "metadata": {
        "id": "T4np1kpTjiDI",
        "colab_type": "code",
        "colab": {
          "base_uri": "https://localhost:8080/",
          "height": 51
        },
        "outputId": "22ffe770-3235-479e-d360-dc7fd99ef9db"
      },
      "source": [
        "bol = np.array([True,False,False,False,False,True,False],dtype= 'bool')\n",
        "data[bol]\n",
        "# bol is mapping on data"
      ],
      "execution_count": 70,
      "outputs": [
        {
          "output_type": "execute_result",
          "data": {
            "text/plain": [
              "array([[-0.92449351,  0.75012969, -1.38066843,  1.53819183],\n",
              "       [ 0.77736223,  0.36298847, -0.42720187,  0.40996577]])"
            ]
          },
          "metadata": {
            "tags": []
          },
          "execution_count": 70
        }
      ]
    },
    {
      "cell_type": "code",
      "metadata": {
        "id": "RMIInjn_khFe",
        "colab_type": "code",
        "colab": {
          "base_uri": "https://localhost:8080/",
          "height": 34
        },
        "outputId": "f8ed0e06-f9e8-4725-abf5-25e987a92c8f"
      },
      "source": [
        "names == 'bob'"
      ],
      "execution_count": 100,
      "outputs": [
        {
          "output_type": "execute_result",
          "data": {
            "text/plain": [
              "array([ True, False, False,  True, False, False, False])"
            ]
          },
          "metadata": {
            "tags": []
          },
          "execution_count": 100
        }
      ]
    },
    {
      "cell_type": "code",
      "metadata": {
        "id": "AQiO2D1fpmUo",
        "colab_type": "code",
        "colab": {
          "base_uri": "https://localhost:8080/",
          "height": 34
        },
        "outputId": "09c0843d-3422-4fde-8c53-c8d460ba8d65"
      },
      "source": [
        "condition = names != 'bob'\n",
        "condition\n"
      ],
      "execution_count": 101,
      "outputs": [
        {
          "output_type": "execute_result",
          "data": {
            "text/plain": [
              "array([False,  True,  True, False,  True,  True,  True])"
            ]
          },
          "metadata": {
            "tags": []
          },
          "execution_count": 101
        }
      ]
    },
    {
      "cell_type": "code",
      "metadata": {
        "id": "oCUo1_TiqAJ9",
        "colab_type": "code",
        "colab": {
          "base_uri": "https://localhost:8080/",
          "height": 34
        },
        "outputId": "305d7fc4-5c17-4ae3-cc69-45685007d71d"
      },
      "source": [
        "data[condition]"
      ],
      "execution_count": 85,
      "outputs": [
        {
          "output_type": "execute_result",
          "data": {
            "text/plain": [
              "array([], shape=(0, 7, 4), dtype=float64)"
            ]
          },
          "metadata": {
            "tags": []
          },
          "execution_count": 85
        }
      ]
    },
    {
      "cell_type": "code",
      "metadata": {
        "id": "NcQ6McDQqG0k",
        "colab_type": "code",
        "colab": {
          "base_uri": "https://localhost:8080/",
          "height": 34
        },
        "outputId": "751050a5-e79f-4f60-af2f-d1a22b562c45"
      },
      "source": [
        "names != 'bob'\n",
        "names"
      ],
      "execution_count": 96,
      "outputs": [
        {
          "output_type": "execute_result",
          "data": {
            "text/plain": [
              "'bob'"
            ]
          },
          "metadata": {
            "tags": []
          },
          "execution_count": 96
        }
      ]
    },
    {
      "cell_type": "code",
      "metadata": {
        "id": "y09SbefnqSUy",
        "colab_type": "code",
        "colab": {
          "base_uri": "https://localhost:8080/",
          "height": 34
        },
        "outputId": "80b01df2-ef7b-41b3-d168-a30e93dffc5c"
      },
      "source": [
        "#~ uses for reverse\n",
        "data[~condition]"
      ],
      "execution_count": 87,
      "outputs": [
        {
          "output_type": "execute_result",
          "data": {
            "text/plain": [
              "array([ 1.19045367, -0.20105078, -0.29423461, -0.26368049])"
            ]
          },
          "metadata": {
            "tags": []
          },
          "execution_count": 87
        }
      ]
    },
    {
      "cell_type": "code",
      "metadata": {
        "id": "grtqcJ_7q8Qb",
        "colab_type": "code",
        "colab": {
          "base_uri": "https://localhost:8080/",
          "height": 136
        },
        "outputId": "cce5be78-8499-4e69-8049-1e08396c80ca"
      },
      "source": [
        "data"
      ],
      "execution_count": 91,
      "outputs": [
        {
          "output_type": "execute_result",
          "data": {
            "text/plain": [
              "array([[-0.92449351,  0.75012969, -1.38066843,  1.53819183],\n",
              "       [ 0.82140167,  0.22623303, -1.9497319 , -1.75133251],\n",
              "       [-1.56178946,  2.54463456, -1.33591135, -0.81827817],\n",
              "       [-0.25873311,  1.84455614, -0.19800455,  0.00862961],\n",
              "       [-0.73703641,  0.0081056 ,  0.20825622, -0.61464813],\n",
              "       [ 0.77736223,  0.36298847, -0.42720187,  0.40996577],\n",
              "       [ 1.19045367, -0.20105078, -0.29423461, -0.26368049]])"
            ]
          },
          "metadata": {
            "tags": []
          },
          "execution_count": 91
        }
      ]
    },
    {
      "cell_type": "code",
      "metadata": {
        "id": "FHoX_H61rDzA",
        "colab_type": "code",
        "colab": {
          "base_uri": "https://localhost:8080/",
          "height": 34
        },
        "outputId": "c5694ffe-7446-4ce9-f60d-73a45be50837"
      },
      "source": [
        "data[~ condition,3]"
      ],
      "execution_count": 93,
      "outputs": [
        {
          "output_type": "execute_result",
          "data": {
            "text/plain": [
              "-0.2636804884765017"
            ]
          },
          "metadata": {
            "tags": []
          },
          "execution_count": 93
        }
      ]
    },
    {
      "cell_type": "code",
      "metadata": {
        "id": "vFYfZ5tarJ2f",
        "colab_type": "code",
        "colab": {
          "base_uri": "https://localhost:8080/",
          "height": 34
        },
        "outputId": "0269d167-67b5-44f1-971c-7dc661102f9a"
      },
      "source": [
        "data[~condition, 1:3]"
      ],
      "execution_count": 95,
      "outputs": [
        {
          "output_type": "execute_result",
          "data": {
            "text/plain": [
              "array([-0.20105078, -0.29423461])"
            ]
          },
          "metadata": {
            "tags": []
          },
          "execution_count": 95
        }
      ]
    },
    {
      "cell_type": "code",
      "metadata": {
        "id": "eOGIDmVcrS6X",
        "colab_type": "code",
        "colab": {
          "base_uri": "https://localhost:8080/",
          "height": 238
        },
        "outputId": "2c911702-3b04-49c2-9e1f-5d81bc60b518"
      },
      "source": [
        "#condition = names != bob\n",
        "data = np.arange(28).reshape(7,4)\n",
        "print(data)\n",
        "print(condition)\n",
        "data[condition,1:3]"
      ],
      "execution_count": 104,
      "outputs": [
        {
          "output_type": "stream",
          "text": [
            "[[ 0  1  2  3]\n",
            " [ 4  5  6  7]\n",
            " [ 8  9 10 11]\n",
            " [12 13 14 15]\n",
            " [16 17 18 19]\n",
            " [20 21 22 23]\n",
            " [24 25 26 27]]\n",
            "[False  True  True False  True  True  True]\n"
          ],
          "name": "stdout"
        },
        {
          "output_type": "execute_result",
          "data": {
            "text/plain": [
              "array([[ 5,  6],\n",
              "       [ 9, 10],\n",
              "       [17, 18],\n",
              "       [21, 22],\n",
              "       [25, 26]])"
            ]
          },
          "metadata": {
            "tags": []
          },
          "execution_count": 104
        }
      ]
    },
    {
      "cell_type": "code",
      "metadata": {
        "id": "XxzT8VN8tEGb",
        "colab_type": "code",
        "colab": {
          "base_uri": "https://localhost:8080/",
          "height": 187
        },
        "outputId": "9f4b9b3f-1c51-42d9-9e33-fb5b35ed5ce7"
      },
      "source": [
        "print(data)\n",
        "print(condition)\n",
        "data[~condition,1:3]"
      ],
      "execution_count": 105,
      "outputs": [
        {
          "output_type": "stream",
          "text": [
            "[[ 0  1  2  3]\n",
            " [ 4  5  6  7]\n",
            " [ 8  9 10 11]\n",
            " [12 13 14 15]\n",
            " [16 17 18 19]\n",
            " [20 21 22 23]\n",
            " [24 25 26 27]]\n",
            "[False  True  True False  True  True  True]\n"
          ],
          "name": "stdout"
        },
        {
          "output_type": "execute_result",
          "data": {
            "text/plain": [
              "array([[ 1,  2],\n",
              "       [13, 14]])"
            ]
          },
          "metadata": {
            "tags": []
          },
          "execution_count": 105
        }
      ]
    },
    {
      "cell_type": "code",
      "metadata": {
        "id": "hOPtpcw4tSxt",
        "colab_type": "code",
        "colab": {
          "base_uri": "https://localhost:8080/",
          "height": 34
        },
        "outputId": "08d09208-1192-478e-895a-5a35ae6ab976"
      },
      "source": [
        "#multiple condition\n",
        "names"
      ],
      "execution_count": 106,
      "outputs": [
        {
          "output_type": "execute_result",
          "data": {
            "text/plain": [
              "array(['bob', 'jeo', 'will', 'bob', 'will', 'jeo', 'jeo'], dtype='<U4')"
            ]
          },
          "metadata": {
            "tags": []
          },
          "execution_count": 106
        }
      ]
    },
    {
      "cell_type": "code",
      "metadata": {
        "id": "edVdowj4ti4X",
        "colab_type": "code",
        "colab": {}
      },
      "source": [
        "#and or does not work on numpy\n",
        "cond = (names==\"bob\") & (names == \"jeo\")"
      ],
      "execution_count": 0,
      "outputs": []
    },
    {
      "cell_type": "code",
      "metadata": {
        "id": "AO3IWwHet-cX",
        "colab_type": "code",
        "colab": {
          "base_uri": "https://localhost:8080/",
          "height": 34
        },
        "outputId": "38eefa00-384a-4415-a760-c161648f6c12"
      },
      "source": [
        "cond"
      ],
      "execution_count": 109,
      "outputs": [
        {
          "output_type": "execute_result",
          "data": {
            "text/plain": [
              "array([False, False, False, False, False, False, False])"
            ]
          },
          "metadata": {
            "tags": []
          },
          "execution_count": 109
        }
      ]
    },
    {
      "cell_type": "code",
      "metadata": {
        "id": "h9w6-wiUuKpY",
        "colab_type": "code",
        "colab": {
          "base_uri": "https://localhost:8080/",
          "height": 34
        },
        "outputId": "83f1129b-42a1-4f9b-f34c-2402832d8b8a"
      },
      "source": [
        "cond1 = (names==\"bob\") | (names == \"jeo\")\n",
        "cond1"
      ],
      "execution_count": 111,
      "outputs": [
        {
          "output_type": "execute_result",
          "data": {
            "text/plain": [
              "array([ True,  True, False,  True, False,  True,  True])"
            ]
          },
          "metadata": {
            "tags": []
          },
          "execution_count": 111
        }
      ]
    },
    {
      "cell_type": "code",
      "metadata": {
        "id": "GN5wFuL7uTav",
        "colab_type": "code",
        "colab": {
          "base_uri": "https://localhost:8080/",
          "height": 289
        },
        "outputId": "76bb39ff-78a1-4427-f091-09555b7c437f"
      },
      "source": [
        "#Fancy indexing\n",
        "arre = np.empty((8,4))\n",
        "arre"
      ],
      "execution_count": 114,
      "outputs": [
        {
          "output_type": "execute_result",
          "data": {
            "text/plain": [
              "array([[1.92911054e-316, 1.02271589e-321, 0.00000000e+000,\n",
              "        0.00000000e+000],\n",
              "       [0.00000000e+000, 3.00833776e+151, 9.95923263e-143,\n",
              "        9.49677371e+170],\n",
              "       [3.51147619e+151, 1.30593186e+214, 1.06400250e+248,\n",
              "        8.03408341e-095],\n",
              "       [2.65292601e+180, 6.92419521e+218, 4.47303447e-143,\n",
              "        2.20198284e-094],\n",
              "       [8.37170554e-144, 3.59531471e+246, 8.73765703e+183,\n",
              "        1.65341891e+137],\n",
              "       [8.73970966e+183, 4.11596382e+223, 7.30654544e+141,\n",
              "        1.79189080e+132],\n",
              "       [8.78575565e+252, 1.67494822e+243, 1.69374332e+190,\n",
              "        1.96099265e+243],\n",
              "       [4.50618371e-144, 1.95288227e+233, 2.60097910e-306,\n",
              "        0.00000000e+000]])"
            ]
          },
          "metadata": {
            "tags": []
          },
          "execution_count": 114
        }
      ]
    },
    {
      "cell_type": "code",
      "metadata": {
        "id": "3d6pqZKxu5Np",
        "colab_type": "code",
        "colab": {}
      },
      "source": [
        "arred = np.empty((8,4))\n",
        "for t in range(8):\n",
        "  arred[t] = t"
      ],
      "execution_count": 0,
      "outputs": []
    },
    {
      "cell_type": "code",
      "metadata": {
        "id": "nkglmeFFvSVc",
        "colab_type": "code",
        "colab": {
          "base_uri": "https://localhost:8080/",
          "height": 153
        },
        "outputId": "5a9d5a89-2258-4192-e6f5-53d2b63c3b56"
      },
      "source": [
        "arred"
      ],
      "execution_count": 117,
      "outputs": [
        {
          "output_type": "execute_result",
          "data": {
            "text/plain": [
              "array([[0., 0., 0., 0.],\n",
              "       [1., 1., 1., 1.],\n",
              "       [2., 2., 2., 2.],\n",
              "       [3., 3., 3., 3.],\n",
              "       [4., 4., 4., 4.],\n",
              "       [5., 5., 5., 5.],\n",
              "       [6., 6., 6., 6.],\n",
              "       [7., 7., 7., 7.]])"
            ]
          },
          "metadata": {
            "tags": []
          },
          "execution_count": 117
        }
      ]
    },
    {
      "cell_type": "code",
      "metadata": {
        "id": "1PDygEF3vZnL",
        "colab_type": "code",
        "colab": {
          "base_uri": "https://localhost:8080/",
          "height": 68
        },
        "outputId": "5d7d8a40-d472-4ab3-a01b-239fcf32cc1a"
      },
      "source": [
        "arred[[1,2,3]]  # arred sees this as a list\n"
      ],
      "execution_count": 118,
      "outputs": [
        {
          "output_type": "execute_result",
          "data": {
            "text/plain": [
              "array([[1., 1., 1., 1.],\n",
              "       [2., 2., 2., 2.],\n",
              "       [3., 3., 3., 3.]])"
            ]
          },
          "metadata": {
            "tags": []
          },
          "execution_count": 118
        }
      ]
    },
    {
      "cell_type": "code",
      "metadata": {
        "id": "l5CgbegRv8nA",
        "colab_type": "code",
        "colab": {
          "base_uri": "https://localhost:8080/",
          "height": 85
        },
        "outputId": "e8dbb7cd-7696-4ccc-ca50-bd9f36c474e5"
      },
      "source": [
        "arred[[4,0,1,7]]  #[[]] is important to print 2d"
      ],
      "execution_count": 120,
      "outputs": [
        {
          "output_type": "execute_result",
          "data": {
            "text/plain": [
              "array([[4., 4., 4., 4.],\n",
              "       [0., 0., 0., 0.],\n",
              "       [1., 1., 1., 1.],\n",
              "       [7., 7., 7., 7.]])"
            ]
          },
          "metadata": {
            "tags": []
          },
          "execution_count": 120
        }
      ]
    },
    {
      "cell_type": "code",
      "metadata": {
        "id": "59hiHIStwBNS",
        "colab_type": "code",
        "colab": {
          "base_uri": "https://localhost:8080/",
          "height": 34
        },
        "outputId": "f48bb911-5f9f-4207-c0dd-f2dd32317b24"
      },
      "source": [
        "arred[[4,0,1,7],[2,1,2,0]] # making an ordered pair (4,2),(0,1),(1,2),(7,0)"
      ],
      "execution_count": 124,
      "outputs": [
        {
          "output_type": "execute_result",
          "data": {
            "text/plain": [
              "array([4., 0., 1., 7.])"
            ]
          },
          "metadata": {
            "tags": []
          },
          "execution_count": 124
        }
      ]
    },
    {
      "cell_type": "code",
      "metadata": {
        "id": "H5PAi9v-wdCj",
        "colab_type": "code",
        "colab": {
          "base_uri": "https://localhost:8080/",
          "height": 221
        },
        "outputId": "460f36ca-6833-43d6-c553-861c0d708b25"
      },
      "source": [
        "print(arred)\n",
        "\n",
        "arred[[1,5,7,2]][:,[0,3,1,2]]\n",
        "\n",
        "#explaination  1[0,3,1,2],5[0,3,1,2],7[0,3,1,2],2[0,3,1,2]\n",
        "#positions(1,0)(1,3)(1,1)(1,2).... and so on"
      ],
      "execution_count": 127,
      "outputs": [
        {
          "output_type": "stream",
          "text": [
            "[[0. 0. 0. 0.]\n",
            " [1. 1. 1. 1.]\n",
            " [2. 2. 2. 2.]\n",
            " [3. 3. 3. 3.]\n",
            " [4. 4. 4. 4.]\n",
            " [5. 5. 5. 5.]\n",
            " [6. 6. 6. 6.]\n",
            " [7. 7. 7. 7.]]\n"
          ],
          "name": "stdout"
        },
        {
          "output_type": "execute_result",
          "data": {
            "text/plain": [
              "array([[1., 1., 1., 1.],\n",
              "       [5., 5., 5., 5.],\n",
              "       [7., 7., 7., 7.],\n",
              "       [2., 2., 2., 2.]])"
            ]
          },
          "metadata": {
            "tags": []
          },
          "execution_count": 127
        }
      ]
    },
    {
      "cell_type": "code",
      "metadata": {
        "id": "xk7kDScNyrmE",
        "colab_type": "code",
        "colab": {
          "base_uri": "https://localhost:8080/",
          "height": 85
        },
        "outputId": "5ac943c5-bdd4-4d49-84a3-7cc4cf045005"
      },
      "source": [
        "#transpose\n",
        "arred.T"
      ],
      "execution_count": 128,
      "outputs": [
        {
          "output_type": "execute_result",
          "data": {
            "text/plain": [
              "array([[0., 1., 2., 3., 4., 5., 6., 7.],\n",
              "       [0., 1., 2., 3., 4., 5., 6., 7.],\n",
              "       [0., 1., 2., 3., 4., 5., 6., 7.],\n",
              "       [0., 1., 2., 3., 4., 5., 6., 7.]])"
            ]
          },
          "metadata": {
            "tags": []
          },
          "execution_count": 128
        }
      ]
    },
    {
      "cell_type": "code",
      "metadata": {
        "id": "PruJIzZAz2kQ",
        "colab_type": "code",
        "colab": {
          "base_uri": "https://localhost:8080/",
          "height": 85
        },
        "outputId": "9fd7b95e-5227-45ba-c38a-05bbe236b4e7"
      },
      "source": [
        "arred.transpose()"
      ],
      "execution_count": 129,
      "outputs": [
        {
          "output_type": "execute_result",
          "data": {
            "text/plain": [
              "array([[0., 1., 2., 3., 4., 5., 6., 7.],\n",
              "       [0., 1., 2., 3., 4., 5., 6., 7.],\n",
              "       [0., 1., 2., 3., 4., 5., 6., 7.],\n",
              "       [0., 1., 2., 3., 4., 5., 6., 7.]])"
            ]
          },
          "metadata": {
            "tags": []
          },
          "execution_count": 129
        }
      ]
    },
    {
      "cell_type": "code",
      "metadata": {
        "id": "_EJF0-D5z60l",
        "colab_type": "code",
        "colab": {}
      },
      "source": [
        "arred.sort()"
      ],
      "execution_count": 0,
      "outputs": []
    },
    {
      "cell_type": "code",
      "metadata": {
        "id": "dR53bWj92Yjb",
        "colab_type": "code",
        "colab": {
          "base_uri": "https://localhost:8080/",
          "height": 153
        },
        "outputId": "e991e61a-5edd-4d54-feab-6907fce3bc66"
      },
      "source": [
        "arred"
      ],
      "execution_count": 131,
      "outputs": [
        {
          "output_type": "execute_result",
          "data": {
            "text/plain": [
              "array([[0., 0., 0., 0.],\n",
              "       [1., 1., 1., 1.],\n",
              "       [2., 2., 2., 2.],\n",
              "       [3., 3., 3., 3.],\n",
              "       [4., 4., 4., 4.],\n",
              "       [5., 5., 5., 5.],\n",
              "       [6., 6., 6., 6.],\n",
              "       [7., 7., 7., 7.]])"
            ]
          },
          "metadata": {
            "tags": []
          },
          "execution_count": 131
        }
      ]
    },
    {
      "cell_type": "code",
      "metadata": {
        "id": "GHAgXLDx2bqc",
        "colab_type": "code",
        "colab": {}
      },
      "source": [
        "s =[3423,43534,22,33,22,44,554,0,9,0]\n"
      ],
      "execution_count": 0,
      "outputs": []
    },
    {
      "cell_type": "code",
      "metadata": {
        "id": "lBF426nB2vyI",
        "colab_type": "code",
        "colab": {
          "base_uri": "https://localhost:8080/",
          "height": 34
        },
        "outputId": "fbed644d-0aac-46c4-e53b-3d5f3f0c6c1f"
      },
      "source": [
        "s"
      ],
      "execution_count": 133,
      "outputs": [
        {
          "output_type": "execute_result",
          "data": {
            "text/plain": [
              "[3423, 43534, 22, 33, 22, 44, 554, 0, 9, 0]"
            ]
          },
          "metadata": {
            "tags": []
          },
          "execution_count": 133
        }
      ]
    },
    {
      "cell_type": "code",
      "metadata": {
        "id": "BmYp7VuH2wbn",
        "colab_type": "code",
        "colab": {
          "base_uri": "https://localhost:8080/",
          "height": 34
        },
        "outputId": "b268b794-b124-4bf5-8cac-9266cbb58296"
      },
      "source": [
        "a=set(s)\n",
        "a  # unique and set will remove repeated values\n",
        "''' our variables dissapear when system shuts down \n",
        "extension changes when zip npz"
      ],
      "execution_count": 134,
      "outputs": [
        {
          "output_type": "execute_result",
          "data": {
            "text/plain": [
              "{0, 9, 22, 33, 44, 554, 3423, 43534}"
            ]
          },
          "metadata": {
            "tags": []
          },
          "execution_count": 134
        }
      ]
    },
    {
      "cell_type": "code",
      "metadata": {
        "id": "uou2maO621fs",
        "colab_type": "code",
        "colab": {}
      },
      "source": [
        "#contactenate\n",
        "arr1 = np.arange(9).reshape(3,3)"
      ],
      "execution_count": 0,
      "outputs": []
    },
    {
      "cell_type": "code",
      "metadata": {
        "id": "JjZMCt2t6kzk",
        "colab_type": "code",
        "colab": {
          "base_uri": "https://localhost:8080/",
          "height": 68
        },
        "outputId": "3fbfdda2-dca9-4d66-cd9a-014588a39530"
      },
      "source": [
        "arr1"
      ],
      "execution_count": 138,
      "outputs": [
        {
          "output_type": "execute_result",
          "data": {
            "text/plain": [
              "array([[0, 1, 2],\n",
              "       [3, 4, 5],\n",
              "       [6, 7, 8]])"
            ]
          },
          "metadata": {
            "tags": []
          },
          "execution_count": 138
        }
      ]
    },
    {
      "cell_type": "code",
      "metadata": {
        "id": "QpQkD6uE6lne",
        "colab_type": "code",
        "colab": {
          "base_uri": "https://localhost:8080/",
          "height": 68
        },
        "outputId": "74cf6b41-95b9-4cc2-c6e2-ad8be54e510e"
      },
      "source": [
        "arr2 = np.array([[1,2,3],[4,44,32],[98,12,133]])\n",
        "arr2\n",
        "#matrix increase3 vertically means rows will increase in real it will increase horizontally"
      ],
      "execution_count": 141,
      "outputs": [
        {
          "output_type": "execute_result",
          "data": {
            "text/plain": [
              "array([[  1,   2,   3],\n",
              "       [  4,  44,  32],\n",
              "       [ 98,  12, 133]])"
            ]
          },
          "metadata": {
            "tags": []
          },
          "execution_count": 141
        }
      ]
    },
    {
      "cell_type": "code",
      "metadata": {
        "id": "4lUP8kMK7HLj",
        "colab_type": "code",
        "colab": {
          "base_uri": "https://localhost:8080/",
          "height": 68
        },
        "outputId": "b3095567-f60b-4d20-f5b3-5c4f17f4697c"
      },
      "source": [
        "'''np.concatenate([arr1,arr2],axis =1) for col\n",
        "np.concatenate([arr1,arr2],axis =0) for row'''\n",
        "np.concatenate([arr1,arr2],axis =1)  #increases col\n"
      ],
      "execution_count": 144,
      "outputs": [
        {
          "output_type": "execute_result",
          "data": {
            "text/plain": [
              "array([[  0,   1,   2,   1,   2,   3],\n",
              "       [  3,   4,   5,   4,  44,  32],\n",
              "       [  6,   7,   8,  98,  12, 133]])"
            ]
          },
          "metadata": {
            "tags": []
          },
          "execution_count": 144
        }
      ]
    },
    {
      "cell_type": "code",
      "metadata": {
        "id": "KqjmAW2C7zn3",
        "colab_type": "code",
        "colab": {
          "base_uri": "https://localhost:8080/",
          "height": 119
        },
        "outputId": "746c66e1-af3c-4687-8bd7-1e736838c473"
      },
      "source": [
        "np.concatenate([arr1,arr2],axis =0) #increases rows"
      ],
      "execution_count": 147,
      "outputs": [
        {
          "output_type": "execute_result",
          "data": {
            "text/plain": [
              "array([[  0,   1,   2],\n",
              "       [  3,   4,   5],\n",
              "       [  6,   7,   8],\n",
              "       [  1,   2,   3],\n",
              "       [  4,  44,  32],\n",
              "       [ 98,  12, 133]])"
            ]
          },
          "metadata": {
            "tags": []
          },
          "execution_count": 147
        }
      ]
    },
    {
      "cell_type": "code",
      "metadata": {
        "id": "2HziydWk730V",
        "colab_type": "code",
        "colab": {
          "base_uri": "https://localhost:8080/",
          "height": 136
        },
        "outputId": "404b0c36-c8d0-4a17-800b-4340e83130e6"
      },
      "source": [
        "#vstack and hstack\n",
        "np.stack([arr1,arr2]) #remember []"
      ],
      "execution_count": 149,
      "outputs": [
        {
          "output_type": "execute_result",
          "data": {
            "text/plain": [
              "array([[[  0,   1,   2],\n",
              "        [  3,   4,   5],\n",
              "        [  6,   7,   8]],\n",
              "\n",
              "       [[  1,   2,   3],\n",
              "        [  4,  44,  32],\n",
              "        [ 98,  12, 133]]])"
            ]
          },
          "metadata": {
            "tags": []
          },
          "execution_count": 149
        }
      ]
    },
    {
      "cell_type": "code",
      "metadata": {
        "id": "sLN3-Qhj8mjD",
        "colab_type": "code",
        "colab": {
          "base_uri": "https://localhost:8080/",
          "height": 119
        },
        "outputId": "144541b9-b59f-420e-b0d6-a3d523215f41"
      },
      "source": [
        "np.vstack([arr1,arr2]) #vertical stack rows will increase"
      ],
      "execution_count": 150,
      "outputs": [
        {
          "output_type": "execute_result",
          "data": {
            "text/plain": [
              "array([[  0,   1,   2],\n",
              "       [  3,   4,   5],\n",
              "       [  6,   7,   8],\n",
              "       [  1,   2,   3],\n",
              "       [  4,  44,  32],\n",
              "       [ 98,  12, 133]])"
            ]
          },
          "metadata": {
            "tags": []
          },
          "execution_count": 150
        }
      ]
    },
    {
      "cell_type": "code",
      "metadata": {
        "id": "-TNc9NaZ86b_",
        "colab_type": "code",
        "colab": {
          "base_uri": "https://localhost:8080/",
          "height": 68
        },
        "outputId": "a320b0e5-cefa-4e3d-9fa9-847e0536c479"
      },
      "source": [
        "np.hstack([arr1,arr2]) #horizontal stack cols will increase"
      ],
      "execution_count": 151,
      "outputs": [
        {
          "output_type": "execute_result",
          "data": {
            "text/plain": [
              "array([[  0,   1,   2,   1,   2,   3],\n",
              "       [  3,   4,   5,   4,  44,  32],\n",
              "       [  6,   7,   8,  98,  12, 133]])"
            ]
          },
          "metadata": {
            "tags": []
          },
          "execution_count": 151
        }
      ]
    },
    {
      "cell_type": "code",
      "metadata": {
        "id": "C5af_3it9U23",
        "colab_type": "code",
        "colab": {}
      },
      "source": [
        "aw= np.arange(36).reshape(6,6)"
      ],
      "execution_count": 0,
      "outputs": []
    },
    {
      "cell_type": "code",
      "metadata": {
        "id": "jth4NA_99vcj",
        "colab_type": "code",
        "colab": {
          "base_uri": "https://localhost:8080/",
          "height": 119
        },
        "outputId": "20afa51c-346c-49aa-d41f-1e15d72e4005"
      },
      "source": [
        "aw"
      ],
      "execution_count": 155,
      "outputs": [
        {
          "output_type": "execute_result",
          "data": {
            "text/plain": [
              "array([[ 0,  1,  2,  3,  4,  5],\n",
              "       [ 6,  7,  8,  9, 10, 11],\n",
              "       [12, 13, 14, 15, 16, 17],\n",
              "       [18, 19, 20, 21, 22, 23],\n",
              "       [24, 25, 26, 27, 28, 29],\n",
              "       [30, 31, 32, 33, 34, 35]])"
            ]
          },
          "metadata": {
            "tags": []
          },
          "execution_count": 155
        }
      ]
    },
    {
      "cell_type": "code",
      "metadata": {
        "id": "OGtii9gd9wM-",
        "colab_type": "code",
        "colab": {
          "base_uri": "https://localhost:8080/",
          "height": 85
        },
        "outputId": "cc42e936-39f4-44d6-8b12-e0893a17c95a"
      },
      "source": [
        "'''2 types of split \n",
        "np.vsplit()\n",
        "np.hsplit()'''\n",
        "np.vsplit(aw,3)# cuts horizontally"
      ],
      "execution_count": 156,
      "outputs": [
        {
          "output_type": "execute_result",
          "data": {
            "text/plain": [
              "[array([[ 0,  1,  2,  3,  4,  5],\n",
              "        [ 6,  7,  8,  9, 10, 11]]), array([[12, 13, 14, 15, 16, 17],\n",
              "        [18, 19, 20, 21, 22, 23]]), array([[24, 25, 26, 27, 28, 29],\n",
              "        [30, 31, 32, 33, 34, 35]])]"
            ]
          },
          "metadata": {
            "tags": []
          },
          "execution_count": 156
        }
      ]
    },
    {
      "cell_type": "code",
      "metadata": {
        "id": "UWk6vIhT-if7",
        "colab_type": "code",
        "colab": {
          "base_uri": "https://localhost:8080/",
          "height": 289
        },
        "outputId": "784ec186-2257-432c-8d8d-d6b009d02918"
      },
      "source": [
        "np.hsplit(aw,3)"
      ],
      "execution_count": 163,
      "outputs": [
        {
          "output_type": "execute_result",
          "data": {
            "text/plain": [
              "[array([[ 0,  1],\n",
              "        [ 6,  7],\n",
              "        [12, 13],\n",
              "        [18, 19],\n",
              "        [24, 25],\n",
              "        [30, 31]]), array([[ 2,  3],\n",
              "        [ 8,  9],\n",
              "        [14, 15],\n",
              "        [20, 21],\n",
              "        [26, 27],\n",
              "        [32, 33]]), array([[ 4,  5],\n",
              "        [10, 11],\n",
              "        [16, 17],\n",
              "        [22, 23],\n",
              "        [28, 29],\n",
              "        [34, 35]])]"
            ]
          },
          "metadata": {
            "tags": []
          },
          "execution_count": 163
        }
      ]
    },
    {
      "cell_type": "code",
      "metadata": {
        "id": "avlXNumd_LZz",
        "colab_type": "code",
        "colab": {
          "base_uri": "https://localhost:8080/",
          "height": 119
        },
        "outputId": "e7cee828-a33a-4f40-fbae-60db347e1d99"
      },
      "source": [
        "np.tile(aw,2) #can also give axis"
      ],
      "execution_count": 164,
      "outputs": [
        {
          "output_type": "execute_result",
          "data": {
            "text/plain": [
              "array([[ 0,  1,  2,  3,  4,  5,  0,  1,  2,  3,  4,  5],\n",
              "       [ 6,  7,  8,  9, 10, 11,  6,  7,  8,  9, 10, 11],\n",
              "       [12, 13, 14, 15, 16, 17, 12, 13, 14, 15, 16, 17],\n",
              "       [18, 19, 20, 21, 22, 23, 18, 19, 20, 21, 22, 23],\n",
              "       [24, 25, 26, 27, 28, 29, 24, 25, 26, 27, 28, 29],\n",
              "       [30, 31, 32, 33, 34, 35, 30, 31, 32, 33, 34, 35]])"
            ]
          },
          "metadata": {
            "tags": []
          },
          "execution_count": 164
        }
      ]
    },
    {
      "cell_type": "code",
      "metadata": {
        "id": "UjpaiN73_tfC",
        "colab_type": "code",
        "colab": {}
      },
      "source": [
        ""
      ],
      "execution_count": 0,
      "outputs": []
    }
  ]
}